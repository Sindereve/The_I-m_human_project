{
 "cells": [
  {
   "cell_type": "markdown",
   "metadata": {},
   "source": [
    "# Donwload data"
   ]
  },
  {
   "cell_type": "code",
   "execution_count": 4,
   "metadata": {},
   "outputs": [
    {
     "name": "stdout",
     "output_type": "stream",
     "text": [
      "Collecting kagglehub\n",
      "  Downloading kagglehub-0.3.12-py3-none-any.whl (67 kB)\n",
      "     ---------------------------------------- 0.0/68.0 kB ? eta -:--:--\n",
      "     ------------------ --------------------- 30.7/68.0 kB ? eta -:--:--\n",
      "     ---------------------------------------- 68.0/68.0 kB 1.2 MB/s eta 0:00:00\n",
      "Collecting pyyaml\n",
      "  Using cached PyYAML-6.0.2-cp310-cp310-win_amd64.whl (161 kB)\n",
      "Requirement already satisfied: requests in c:\\users\\sinde\\desktop\\cap\\.venv\\lib\\site-packages (from kagglehub) (2.32.3)\n",
      "Requirement already satisfied: packaging in c:\\users\\sinde\\desktop\\cap\\.venv\\lib\\site-packages (from kagglehub) (24.2)\n",
      "Requirement already satisfied: tqdm in c:\\users\\sinde\\desktop\\cap\\.venv\\lib\\site-packages (from kagglehub) (4.67.1)\n",
      "Requirement already satisfied: charset-normalizer<4,>=2 in c:\\users\\sinde\\desktop\\cap\\.venv\\lib\\site-packages (from requests->kagglehub) (3.4.1)\n",
      "Requirement already satisfied: certifi>=2017.4.17 in c:\\users\\sinde\\desktop\\cap\\.venv\\lib\\site-packages (from requests->kagglehub) (2025.1.31)\n",
      "Requirement already satisfied: idna<4,>=2.5 in c:\\users\\sinde\\desktop\\cap\\.venv\\lib\\site-packages (from requests->kagglehub) (3.10)\n",
      "Requirement already satisfied: urllib3<3,>=1.21.1 in c:\\users\\sinde\\desktop\\cap\\.venv\\lib\\site-packages (from requests->kagglehub) (2.3.0)\n",
      "Requirement already satisfied: colorama in c:\\users\\sinde\\desktop\\cap\\.venv\\lib\\site-packages (from tqdm->kagglehub) (0.4.6)\n",
      "Installing collected packages: pyyaml, kagglehub\n",
      "Successfully installed kagglehub-0.3.12 pyyaml-6.0.2\n"
     ]
    },
    {
     "name": "stderr",
     "output_type": "stream",
     "text": [
      "\n",
      "[notice] A new release of pip is available: 23.0.1 -> 25.1.1\n",
      "[notice] To update, run: python.exe -m pip install --upgrade pip\n"
     ]
    }
   ],
   "source": [
    "# !pip install kagglehub"
   ]
  },
  {
   "cell_type": "code",
   "execution_count": 6,
   "metadata": {},
   "outputs": [
    {
     "name": "stdout",
     "output_type": "stream",
     "text": [
      "Dataset URL: https://www.kaggle.com/datasets/sindik/sin-captcha-images\n",
      "Dataset downloaded to c:\\Users\\sinde\\Desktop\\cap\\sin-captcha-images\n"
     ]
    }
   ],
   "source": [
    "import os\n",
    "from kaggle.api.kaggle_api_extended import KaggleApi\n",
    "\n",
    "api = KaggleApi()\n",
    "api.authenticate()\n",
    "\n",
    "\n",
    "current_directory = os.getcwd()\n",
    "dataset_folder = os.path.join(current_directory, 'sin-captcha-images')\n",
    "\n",
    "dataset_name = 'sindik/sin-captcha-images'\n",
    "api.dataset_download_files(dataset_name, path=dataset_folder, unzip=True)\n",
    "print(f\"Dataset downloaded to {dataset_folder}\")"
   ]
  }
 ],
 "metadata": {
  "kernelspec": {
   "display_name": ".venv",
   "language": "python",
   "name": "python3"
  },
  "language_info": {
   "codemirror_mode": {
    "name": "ipython",
    "version": 3
   },
   "file_extension": ".py",
   "mimetype": "text/x-python",
   "name": "python",
   "nbconvert_exporter": "python",
   "pygments_lexer": "ipython3",
   "version": "3.10.11"
  }
 },
 "nbformat": 4,
 "nbformat_minor": 2
}
